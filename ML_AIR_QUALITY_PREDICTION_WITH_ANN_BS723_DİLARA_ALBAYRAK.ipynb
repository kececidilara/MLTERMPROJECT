{
  "nbformat": 4,
  "nbformat_minor": 0,
  "metadata": {
    "colab": {
      "provenance": []
    },
    "kernelspec": {
      "name": "python3",
      "display_name": "Python 3"
    },
    "language_info": {
      "name": "python"
    }
  },
  "cells": [
    {
      "cell_type": "code",
      "metadata": {
        "id": "wBb-3iHl_wy6"
      },
      "source": [
        "import torch\n",
        "from torch.autograd import Variable\n",
        "import torch.nn.functional as F\n",
        "import torch.utils.data as Data\n",
        "import numpy as np"
      ],
      "execution_count": null,
      "outputs": []
    },
    {
      "cell_type": "code",
      "metadata": {
        "colab": {
          "base_uri": "https://localhost:8080/"
        },
        "id": "yVwYVaNLATI7",
        "outputId": "9a90fbe6-f50f-4457-a089-2a765dc165c2"
      },
      "source": [
        "!wget https://raw.githubusercontent.com/kececidilara/MLTERMPROJECT/main/NO2normalization.csv\n",
        "!wget https://raw.githubusercontent.com/kececidilara/MLTERMPROJECT/main/O3normalization.csv\n",
        "!wget https://raw.githubusercontent.com/kececidilara/MLTERMPROJECT/main/pm2.5try.csv\n",
        "!wget https://raw.githubusercontent.com/kececidilara/MLTERMPROJECT/main/City_max_mincsv.csv"
      ],
      "execution_count": null,
      "outputs": [
        {
          "output_type": "stream",
          "text": [
            "--2021-07-28 11:21:49--  https://raw.githubusercontent.com/kececidilara/MLTERMPROJECT/main/NO2normalization.csv\n",
            "Resolving raw.githubusercontent.com (raw.githubusercontent.com)... 185.199.108.133, 185.199.109.133, 185.199.110.133, ...\n",
            "Connecting to raw.githubusercontent.com (raw.githubusercontent.com)|185.199.108.133|:443... connected.\n",
            "HTTP request sent, awaiting response... 200 OK\n",
            "Length: 3117 (3.0K) [text/plain]\n",
            "Saving to: ‘NO2normalization.csv’\n",
            "\n",
            "NO2normalization.cs 100%[===================>]   3.04K  --.-KB/s    in 0s      \n",
            "\n",
            "2021-07-28 11:21:49 (33.6 MB/s) - ‘NO2normalization.csv’ saved [3117/3117]\n",
            "\n",
            "--2021-07-28 11:21:49--  https://raw.githubusercontent.com/kececidilara/MLTERMPROJECT/main/O3normalization.csv\n",
            "Resolving raw.githubusercontent.com (raw.githubusercontent.com)... 185.199.108.133, 185.199.109.133, 185.199.110.133, ...\n",
            "Connecting to raw.githubusercontent.com (raw.githubusercontent.com)|185.199.108.133|:443... connected.\n",
            "HTTP request sent, awaiting response... 200 OK\n",
            "Length: 3056 (3.0K) [text/plain]\n",
            "Saving to: ‘O3normalization.csv’\n",
            "\n",
            "O3normalization.csv 100%[===================>]   2.98K  --.-KB/s    in 0s      \n",
            "\n",
            "2021-07-28 11:21:50 (52.1 MB/s) - ‘O3normalization.csv’ saved [3056/3056]\n",
            "\n",
            "--2021-07-28 11:21:50--  https://raw.githubusercontent.com/kececidilara/MLTERMPROJECT/main/pm2.5try.csv\n",
            "Resolving raw.githubusercontent.com (raw.githubusercontent.com)... 185.199.108.133, 185.199.109.133, 185.199.110.133, ...\n",
            "Connecting to raw.githubusercontent.com (raw.githubusercontent.com)|185.199.108.133|:443... connected.\n",
            "HTTP request sent, awaiting response... 200 OK\n",
            "Length: 2191 (2.1K) [text/plain]\n",
            "Saving to: ‘pm2.5try.csv’\n",
            "\n",
            "pm2.5try.csv        100%[===================>]   2.14K  --.-KB/s    in 0s      \n",
            "\n",
            "2021-07-28 11:21:50 (44.3 MB/s) - ‘pm2.5try.csv’ saved [2191/2191]\n",
            "\n",
            "--2021-07-28 11:21:50--  https://raw.githubusercontent.com/kececidilara/MLTERMPROJECT/main/City_max_mincsv.csv\n",
            "Resolving raw.githubusercontent.com (raw.githubusercontent.com)... 185.199.110.133, 185.199.108.133, 185.199.111.133, ...\n",
            "Connecting to raw.githubusercontent.com (raw.githubusercontent.com)|185.199.110.133|:443... connected.\n",
            "HTTP request sent, awaiting response... 200 OK\n",
            "Length: 958 [text/plain]\n",
            "Saving to: ‘City_max_mincsv.csv’\n",
            "\n",
            "City_max_mincsv.csv 100%[===================>]     958  --.-KB/s    in 0s      \n",
            "\n",
            "2021-07-28 11:21:50 (64.8 MB/s) - ‘City_max_mincsv.csv’ saved [958/958]\n",
            "\n"
          ],
          "name": "stdout"
        }
      ]
    },
    {
      "cell_type": "code",
      "metadata": {
        "colab": {
          "base_uri": "https://localhost:8080/"
        },
        "id": "U8R-mjy0AW47",
        "outputId": "c760c328-b621-4509-8176-ebe4e1ed7a64"
      },
      "source": [
        "from csv import reader\n",
        "import math\n",
        "print(\"pm2.5\")\n",
        "datasetpm25 = []\n",
        "\n",
        "with open('pm2.5try.csv', 'r') as file:\n",
        "    csv_reader = reader(file, delimiter=\";\")\n",
        "    for row in csv_reader:\n",
        "        if not row:\n",
        "            continue\n",
        "        arr = [row[0], row[1], row[2], row[3], row[4], row[5],row[6], row[7], row[8], row[9], row[10]]\n",
        "        datasetpm25.append(arr)\n",
        "\n",
        "\n",
        "datasetno2 = []\n",
        "with open('NO2normalization.csv', 'r') as file:\n",
        "    csv_reader = reader(file,  delimiter=\";\")\n",
        "    for row in csv_reader:\n",
        "        if not row:\n",
        "            continue\n",
        "        arr = [row[0], row[1], row[2], row[3], row[4], row[5],row[6], row[7], row[8], row[9], row[10]]\n",
        "        datasetno2.append(arr)\n",
        "\n",
        "\n",
        "dataseto3 = []\n",
        "with open('O3normalization.csv', 'r') as file:\n",
        "    csv_reader = reader(file,  delimiter=\";\")\n",
        "    for row in csv_reader:\n",
        "        if not row:\n",
        "            continue\n",
        "        arr = [row[0], row[1], row[2], row[3], row[4], row[5],row[6], row[7], row[8], row[9], row[10]]\n",
        "        dataseto3.append(arr)"
      ],
      "execution_count": null,
      "outputs": [
        {
          "output_type": "stream",
          "text": [
            "pm2.5\n"
          ],
          "name": "stdout"
        }
      ]
    },
    {
      "cell_type": "code",
      "metadata": {
        "colab": {
          "base_uri": "https://localhost:8080/"
        },
        "id": "2ThhSGN6AbFW",
        "outputId": "ed0e3024-d087-4ce6-f7fc-5575be4d06bf"
      },
      "source": [
        "dataset = []\n",
        "\n",
        "for city in range(len(datasetpm25)):\n",
        "  data_city = []\n",
        "  data_xpm25 = []\n",
        "  data_ypm25 = []\n",
        "  data_xno2 = []\n",
        "  data_yno2 = []\n",
        "  data_xo3 = []\n",
        "  data_yo3 = [] \n",
        "  for index in range(len(datasetpm25[city])-5):\n",
        "    data_xpm25.append(datasetpm25[city][index+1:index+5])\n",
        "    data_ypm25.append(datasetpm25[city][index+5])\n",
        "  for index in range(len(datasetno2[city])-5):\n",
        "    data_xno2.append(datasetno2[city][index+1:index+5])\n",
        "    data_yno2.append(datasetno2[city][index+5])\n",
        "  for index in range(len(dataseto3[city])-5):\n",
        "    data_xo3.append(dataseto3[city][index+1:index+5])\n",
        "    data_yo3.append(dataseto3[city][index+5])\n",
        "  \n",
        "  data_pm25 = (np.array(data_xpm25).astype(float),np.array(data_ypm25).astype(float))\n",
        "  data_city.append(data_pm25)\n",
        "\n",
        "  data_no2 = (np.array(data_xno2).astype(float),np.array(data_yno2).astype(float))\n",
        "  data_city.append(data_no2)\n",
        "\n",
        "  data_o3 = (np.array(data_xo3).astype(float),np.array(data_yo3).astype(float))\n",
        "  data_city.append(data_o3)\n",
        "  \n",
        "  dataset.append(data_city)\n",
        "\n",
        "print(dataset[0][0])"
      ],
      "execution_count": null,
      "outputs": [
        {
          "output_type": "stream",
          "text": [
            "(array([[1.        , 0.76052632, 0.93947368, 0.60263158],\n",
            "       [0.76052632, 0.93947368, 0.60263158, 0.48684211],\n",
            "       [0.93947368, 0.60263158, 0.48684211, 0.53157895],\n",
            "       [0.60263158, 0.48684211, 0.53157895, 0.52368421],\n",
            "       [0.48684211, 0.53157895, 0.52368421, 0.13157895],\n",
            "       [0.53157895, 0.52368421, 0.13157895, 0.12368421]]), array([0.48684211, 0.53157895, 0.52368421, 0.13157895, 0.12368421,\n",
            "       0.        ]))\n"
          ],
          "name": "stdout"
        }
      ]
    },
    {
      "cell_type": "code",
      "metadata": {
        "colab": {
          "base_uri": "https://localhost:8080/"
        },
        "id": "RA7tM7tOAgx2",
        "outputId": "335f088b-6e13-4468-f975-bb19880d6dc4"
      },
      "source": [
        "networks = []\n",
        "loss_graphs = []\n",
        "for city in range(len(dataset)):\n",
        "  net_city = []\n",
        "  loss_city = []\n",
        "  for index, indicator in enumerate(dataset[city]):\n",
        "\n",
        "    net = torch.nn.Sequential(\n",
        "            torch.nn.Linear(4, 200),\n",
        "            torch.nn.LeakyReLU(),\n",
        "            torch.nn.Linear(200, 100),\n",
        "            torch.nn.LeakyReLU(),\n",
        "            torch.nn.Linear(100, 1),\n",
        "        )\n",
        "    optimizer = torch.optim.Adam(net.parameters(), lr=0.001)\n",
        "    loss_func = torch.nn.MSELoss()  # this is for regression mean squared loss\n",
        "\n",
        "    BATCH_SIZE = 1\n",
        "    EPOCH = 20\n",
        "\n",
        "\n",
        "    x = torch.FloatTensor(indicator[0])\n",
        "    y = torch.FloatTensor(indicator[1])\n",
        "\n",
        "    torch_dataset = Data.TensorDataset(x, y)\n",
        "\n",
        "    loader = Data.DataLoader(\n",
        "        dataset=torch_dataset, \n",
        "        batch_size=BATCH_SIZE, \n",
        "        shuffle=True, num_workers=2,)\n",
        "\n",
        "    loss_values = []\n",
        "\n",
        "    # start training\n",
        "    for epoch in range(EPOCH):\n",
        "        for step, (batch_x, batch_y) in enumerate(loader): # for each training step\n",
        "            \n",
        "            b_x = Variable(batch_x)\n",
        "            b_y = Variable(batch_y)\n",
        "\n",
        "            prediction = net(b_x)     # input x and predict based on x\n",
        "\n",
        "            loss = loss_func(prediction, b_y)     # must be (1. nn output, 2. target)\n",
        "\n",
        "            optimizer.zero_grad()   # clear gradients for next train\n",
        "            loss.backward()         # backpropagation, compute gradients\n",
        "            optimizer.step()        # apply gradients\n",
        "            loss_values.append(loss)\n",
        "\n",
        "    net_city.append(net)\n",
        "    loss_city.append(loss_values)\n",
        "\n",
        "  networks.append(net_city)\n",
        "  loss_graphs.append(loss_city)"
      ],
      "execution_count": null,
      "outputs": [
        {
          "output_type": "stream",
          "text": [
            "/usr/local/lib/python3.7/dist-packages/torch/nn/modules/loss.py:528: UserWarning: Using a target size (torch.Size([1])) that is different to the input size (torch.Size([1, 1])). This will likely lead to incorrect results due to broadcasting. Please ensure they have the same size.\n",
            "  return F.mse_loss(input, target, reduction=self.reduction)\n"
          ],
          "name": "stderr"
        }
      ]
    },
    {
      "cell_type": "code",
      "metadata": {
        "colab": {
          "base_uri": "https://localhost:8080/",
          "height": 295
        },
        "id": "KjVyFWNtAng6",
        "outputId": "02f8e34c-682e-42e9-a392-51a594c5399c"
      },
      "source": [
        "import matplotlib.pyplot as plt\n",
        "plt.plot(loss_graphs[5][0])\n",
        "plt.title('Learning Curve for Bushwick for PM2.5')\n",
        "plt.xlabel('Step')\n",
        "plt.ylabel('Loss')\n",
        "plt.grid('on')"
      ],
      "execution_count": null,
      "outputs": [
        {
          "output_type": "display_data",
          "data": {
            "image/png": "[encoded data removed]",
            "text/plain": [
              "<Figure size 432x288 with 1 Axes>"
            ]
          },
          "metadata": {
            "tags": [],
            "needs_background": "light"
          }
        }
      ]
    },
    {
      "cell_type": "code",
      "metadata": {
        "colab": {
          "base_uri": "https://localhost:8080/"
        },
        "id": "5NfbPvUwAq_G",
        "outputId": "fc8021b1-b93d-498a-d269-b7fd7bcf3f1d"
      },
      "source": [
        "cities_max_min = []\n",
        "with open('City_max_mincsv.csv', 'r') as file:\n",
        "    csv_reader = reader(file,  delimiter=\";\")\n",
        "    for row in csv_reader:\n",
        "        if not row:\n",
        "            continue\n",
        "        row = [h.replace(',','.') for h in row]\n",
        "        arr = [row[0], float(row[1]), float(row[2]), float(row[3]), float(row[4]), float(row[5]), float(row[6])]\n",
        "        cities_max_min.append(arr)\n",
        "print(cities_max_min)"
      ],
      "execution_count": null,
      "outputs": [
        {
          "output_type": "stream",
          "text": [
            "[['Bronx', 11.05, 7.25, 24.52, 17.73, 34.61, 25.3], ['Brooklyn', 10.5, 7.19, 24.11, 17.83, 33.98, 26.27], ['Bedford Stuyvesant (CD3)', 10.84, 7.38, 27.55, 19.99, 32.55, 23.92], ['Bensonhurst (CD11)', 9.84, 6.72, 23.01, 17.08, 34.91, 27.36], ['Brownsville (CD16)', 10.78, 7.36, 25.63, 18.8, 33.74, 25.39], ['Bushwick (CD4)', 10.81, 7.51, 25.88, 19.47, 33.47, 25.32], ['Central Harlem (CD10)', 11.55, 7.5, 31.17, 21.72, 31.8, 21.56], ['Coney Island (CD13)', 9.43, 6.53, 18.41, 13.63, 37.9, 30.59], ['Financial District (CD1)', 13.05, 8.97, 36.62, 25.32, 29.81, 19.11], ['Fresh Meadows', 10.0, 6.55, 22.78, 17.34, 33.38, 25.43], ['Jackson Heights (CD3)', 10.26, 6.88, 25.64, 19.09, 33.72, 25.51], ['Manhattan', 12.63, 8.46, 33.89, 23.43, 30.3, 20.44], ['Midtown (CD5)', 16.09, 10.92, 46.75, 31.1, 26.92, 14.38], ['New York City', 10.43, 7.0, 22.72, 17.0, 33.83, 26.0], ['Port Richmond', 10.22, 6.78, 21.35, 16.77, 33.42, 24.42], ['Queens', 10.05, 6.82, 22.19, 17.18, 34.5, 26.85], ['Staten Island', 9.81, 6.4, 16.84, 12.92, 35.17, 26.72], ['Sunset Park (CD7)', 11.13, 7.77, 25.49, 18.96, 33.19, 24.49], ['Willowbrook', 10.1, 6.63, 17.49, 13.57, 34.68, 26.04]]\n"
          ],
          "name": "stdout"
        }
      ]
    },
    {
      "cell_type": "code",
      "metadata": {
        "id": "cmqpo1F-Aumy"
      },
      "source": [
        "def invert_normalization(prediction,max,min):\n",
        "  return prediction*(max-min)+min \n",
        "\n",
        "def normalize(arr,max,min):\n",
        "  return [(value-min)/(max-min) for value in arr ]\n",
        "\n",
        "def predict(arr,net,max,min,n_year):\n",
        "  predictions = []\n",
        "  for year in range(n_year):\n",
        "    arr_normalized = np.array(normalize(arr,max,min))\n",
        "    arr_tensor = torch.FloatTensor(arr_normalized)\n",
        "    prediction_normalized = net(arr_tensor)\n",
        "    prediction = invert_normalization(prediction_normalized,max,min)\n",
        "    predictions.append(float(prediction))\n",
        "    arr = arr[1:]\n",
        "    arr.append(float(prediction))\n",
        "  return predictions"
      ],
      "execution_count": null,
      "outputs": []
    },
    {
      "cell_type": "code",
      "metadata": {
        "colab": {
          "base_uri": "https://localhost:8080/"
        },
        "id": "xduYZvRIA02N",
        "outputId": "349846c9-b99e-45af-86ea-3e2cd9925454"
      },
      "source": [
        "!wget https://raw.githubusercontent.com/kececidilara/MLTERMPROJECT/main/pm2.5.csv\n",
        "!wget https://raw.githubusercontent.com/kececidilara/MLTERMPROJECT/main/O3.csv\n",
        "!wget https://raw.githubusercontent.com/kececidilara/MLTERMPROJECT/main/NO2.csv"
      ],
      "execution_count": null,
      "outputs": [
        {
          "output_type": "stream",
          "text": [
            "--2021-07-28 11:23:04--  https://raw.githubusercontent.com/kececidilara/MLTERMPROJECT/main/pm2.5.csv\n",
            "Resolving raw.githubusercontent.com (raw.githubusercontent.com)... 185.199.110.133, 185.199.111.133, 185.199.108.133, ...\n",
            "Connecting to raw.githubusercontent.com (raw.githubusercontent.com)|185.199.110.133|:443... connected.\n",
            "HTTP request sent, awaiting response... 200 OK\n",
            "Length: 988 [text/plain]\n",
            "Saving to: ‘pm2.5.csv’\n",
            "\n",
            "pm2.5.csv           100%[===================>]     988  --.-KB/s    in 0s      \n",
            "\n",
            "2021-07-28 11:23:05 (36.8 MB/s) - ‘pm2.5.csv’ saved [988/988]\n",
            "\n",
            "--2021-07-28 11:23:05--  https://raw.githubusercontent.com/kececidilara/MLTERMPROJECT/main/O3.csv\n",
            "Resolving raw.githubusercontent.com (raw.githubusercontent.com)... 185.199.111.133, 185.199.110.133, 185.199.108.133, ...\n",
            "Connecting to raw.githubusercontent.com (raw.githubusercontent.com)|185.199.111.133|:443... connected.\n",
            "HTTP request sent, awaiting response... 200 OK\n",
            "Length: 1131 (1.1K) [text/plain]\n",
            "Saving to: ‘O3.csv’\n",
            "\n",
            "O3.csv              100%[===================>]   1.10K  --.-KB/s    in 0s      \n",
            "\n",
            "2021-07-28 11:23:05 (69.5 MB/s) - ‘O3.csv’ saved [1131/1131]\n",
            "\n",
            "--2021-07-28 11:23:05--  https://raw.githubusercontent.com/kececidilara/MLTERMPROJECT/main/NO2.csv\n",
            "Resolving raw.githubusercontent.com (raw.githubusercontent.com)... 185.199.110.133, 185.199.111.133, 185.199.108.133, ...\n",
            "Connecting to raw.githubusercontent.com (raw.githubusercontent.com)|185.199.110.133|:443... connected.\n",
            "HTTP request sent, awaiting response... 200 OK\n",
            "Length: 1136 (1.1K) [text/plain]\n",
            "Saving to: ‘NO2.csv’\n",
            "\n",
            "NO2.csv             100%[===================>]   1.11K  --.-KB/s    in 0s      \n",
            "\n",
            "2021-07-28 11:23:05 (28.3 MB/s) - ‘NO2.csv’ saved [1136/1136]\n",
            "\n"
          ],
          "name": "stdout"
        }
      ]
    },
    {
      "cell_type": "code",
      "metadata": {
        "colab": {
          "base_uri": "https://localhost:8080/"
        },
        "id": "Z3PzUt8XA48B",
        "outputId": "e9e65660-6a23-47fc-ccae-ca31610ef0bf"
      },
      "source": [
        "dataset_original = []\n",
        "dataset_original_pm25 = []\n",
        "with open('pm2.5.csv', 'r') as file:\n",
        "    csv_reader = reader(file,  delimiter=\";\")\n",
        "    for row in csv_reader:\n",
        "        if not row:\n",
        "            continue\n",
        "        row = [h.replace(',','.') for h in row]\n",
        "        arr = [float(row[0]), float(row[1]), float(row[2]), float(row[3]), float(row[4]), float(row[5]), float(row[6]), float(row[7]), float(row[8]), float(row[9])]\n",
        "        dataset_original_pm25.append(arr)\n",
        "dataset_original.append(dataset_original_pm25)\n",
        "dataset_original_no2 = []\n",
        "with open('NO2.csv', 'r') as file:\n",
        "    csv_reader = reader(file,  delimiter=\";\")\n",
        "    for row in csv_reader:\n",
        "        if not row:\n",
        "            continue\n",
        "        row = [h.replace(',','.') for h in row]\n",
        "        arr = [float(row[0]), float(row[1]), float(row[2]), float(row[3]), float(row[4]), float(row[5]), float(row[6]), float(row[7]), float(row[8]), float(row[9])]\n",
        "        dataset_original_no2.append(arr)\n",
        "dataset_original.append(dataset_original_no2)\n",
        "dataset_original_o3 = []\n",
        "with open('O3.csv', 'r') as file:\n",
        "    csv_reader = reader(file,  delimiter=\";\")\n",
        "    for row in csv_reader:\n",
        "        if not row:\n",
        "            continue\n",
        "        row = [h.replace(',','.') for h in row]\n",
        "        arr = [float(row[0]), float(row[1]), float(row[2]), float(row[3]), float(row[4]), float(row[5]), float(row[6]), float(row[7]), float(row[8]), float(row[9])]\n",
        "        dataset_original_o3.append(arr)\n",
        "dataset_original.append(dataset_original_o3)\n",
        "print(len(dataset_original))"
      ],
      "execution_count": null,
      "outputs": [
        {
          "output_type": "stream",
          "text": [
            "3\n"
          ],
          "name": "stdout"
        }
      ]
    },
    {
      "cell_type": "code",
      "metadata": {
        "colab": {
          "base_uri": "https://localhost:8080/",
          "height": 334
        },
        "id": "onkRcOgbA-VS",
        "outputId": "d9948ea0-e0fd-4493-fa3d-c8320747b850"
      },
      "source": [
        "starting_date = 2009\n",
        "\n",
        "city_index = 6\n",
        "indicator = 'NO2'\n",
        "predict_year = 25\n",
        "starting_year = 0\n",
        "\n",
        "if indicator == 'PM2.5':\n",
        "  max_index = 1\n",
        "  min_index = 2\n",
        "  indicator_index = 0\n",
        "elif indicator == 'NO2':\n",
        "  max_index = 3\n",
        "  min_index = 4\n",
        "  indicator_index = 1\n",
        "elif indicator == 'O3':\n",
        "  max_index = 5\n",
        "  min_index = 6\n",
        "  indicator_index = 2\n",
        "\n",
        "max = cities_max_min[city_index][max_index]\n",
        "min = cities_max_min[city_index][min_index]\n",
        "\n",
        "test = dataset_original[indicator_index][city_index][starting_year:starting_year+4]\n",
        "\n",
        "predictions = predict(test,networks[city_index][indicator_index],max,min,predict_year)\n",
        "print(predictions)\n",
        "\n",
        "\n",
        "\n",
        "import matplotlib.pyplot as plt\n",
        "plt.plot(np.arange(starting_date+starting_year+4,starting_date+starting_year+4+predict_year),predictions)\n",
        "plt.plot(np.arange(starting_date,starting_date+10),dataset_original[indicator_index][city_index])\n",
        "plt.legend(['Forecasted Data','Original Data'])\n",
        "plt.title('Prediction for {} years for {}'.format(predict_year,cities_max_min[city_index][0]))\n",
        "plt.ylabel(indicator)"
      ],
      "execution_count": null,
      "outputs": [
        {
          "output_type": "stream",
          "text": [
            "[25.381567001342773, 23.84840202331543, 23.280712127685547, 22.453908920288086, 22.294937133789062, 21.848562240600586, 21.769804000854492, 21.573802947998047, 21.552221298217773, 21.444454193115234, 21.431392669677734, 21.37982177734375, 21.376941680908203, 21.34929084777832, 21.347576141357422, 21.33421516418457, 21.334327697753906, 21.32772445678711, 21.327857971191406, 21.324630737304688, 21.324872970581055, 21.32327651977539, 21.32343292236328, 21.32264518737793, 21.3227596282959]\n"
          ],
          "name": "stdout"
        },
        {
          "output_type": "execute_result",
          "data": {
            "text/plain": [
              "Text(0, 0.5, 'NO2')"
            ]
          },
          "metadata": {
            "tags": []
          },
          "execution_count": 14
        },
        {
          "output_type": "display_data",
          "data": {
            "image/png": "[encoded data removed]",
            "text/plain": [
              "<Figure size 432x288 with 1 Axes>"
            ]
          },
          "metadata": {
            "tags": [],
            "needs_background": "light"
          }
        }
      ]
    }
  ]
}